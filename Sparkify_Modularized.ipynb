{
 "cells": [
  {
   "cell_type": "markdown",
   "metadata": {},
   "source": [
    "# Sparkify Project Workspace\n",
    "This workspace contains a tiny subset (128MB) of the full dataset available (12GB). Feel free to use this workspace to build your project, or to explore a smaller subset with Spark before deploying your cluster on the cloud. Instructions for setting up your Spark cluster is included in the last lesson of the Extracurricular Spark Course content.\n",
    "\n",
    "You can follow the steps below to guide your data analysis and model building portion of this project."
   ]
  },
  {
   "cell_type": "code",
   "execution_count": 1,
   "metadata": {},
   "outputs": [],
   "source": [
    "# import libraries\n",
    "from pyspark.sql import SparkSession\n",
    "from pyspark.sql import functions as F\n",
    "from pyspark.sql import types as T\n",
    "\n",
    "import pandas as pd\n",
    "import numpy as np\n",
    "import datetime as dt\n",
    "import matplotlib.pyplot as plt\n",
    "import seaborn as sns\n",
    "\n",
    "from sklearn.pipeline import Pipeline\n",
    "from sklearn.preprocessing import MinMaxScaler, Normalizer\n",
    "from sklearn.ensemble import RandomForestClassifier, GradientBoostingClassifier\n",
    "from sklearn.linear_model import LogisticRegression\n",
    "from sklearn.model_selection import train_test_split, GridSearchCV\n",
    "from sklearn.metrics import accuracy_score, precision_score, recall_score, f1_score, make_scorer, classification_report, precision_recall_fscore_support, confusion_matrix, make_scorer\n",
    "\n",
    "pd.set_option('max_rows', 1000)\n",
    "pd.set_option('max_columns', 1000)"
   ]
  },
  {
   "cell_type": "code",
   "execution_count": 2,
   "metadata": {},
   "outputs": [],
   "source": [
    "# create a Spark session\n",
    "spark = SparkSession \\\n",
    "        .builder \\\n",
    "        .appName(\"Sparkify\") \\\n",
    "        .getOrCreate()"
   ]
  },
  {
   "cell_type": "markdown",
   "metadata": {},
   "source": [
    "# Load and Clean Dataset\n",
    "In this workspace, the mini-dataset file is `mini_sparkify_event_data.json`. Load and clean the dataset, checking for invalid or missing data - for example, records without userids or sessionids. "
   ]
  },
  {
   "cell_type": "code",
   "execution_count": 7,
   "metadata": {},
   "outputs": [],
   "source": [
    "def load_and_preprocess_data(path):\n",
    "    \n",
    "    df = spark.read.json(path).toPandas()\n",
    "    \n",
    "    # Drop null user IDs and guest user sessions, then convert userID to correct data type\n",
    "    df = df[(df['userId'] != '') & (df['auth'] != 'Guest')]\n",
    "    \n",
    "    # Convert timestamp to date and time, then create time variables\n",
    "    df['ts2'] = pd.to_datetime(df.ts, unit='ms')\n",
    "    df['month'] = df['ts2'].dt.month\n",
    "    df['day'] = df['ts2'].dt.day\n",
    "    df['time'] = df['ts2'].dt.time\n",
    "    df['weekday'] = df['ts2'].dt.dayofweek\n",
    "    df['week'] = df['ts2'].dt.week\n",
    "    \n",
    "    return df"
   ]
  },
  {
   "cell_type": "markdown",
   "metadata": {},
   "source": [
    "### Define Churn\n",
    "\n",
    "Once you've done some preliminary analysis, create a column `Churn` to use as the label for your model. I suggest using the `Cancellation Confirmation` events to define your churn, which happen for both paid and free users. As a bonus task, you can also look into the `Downgrade` events."
   ]
  },
  {
   "cell_type": "code",
   "execution_count": 10,
   "metadata": {},
   "outputs": [],
   "source": [
    "def flag_churn(df):\n",
    "    # Get all unique IDs associated with a cancellation confirmation page\n",
    "    churned_ids = list(df.loc[df['page'] == 'Cancellation Confirmation']['userId'].unique())\n",
    "    df['churn'] = df['userId'].map(lambda user: 1 if user in churned_ids else 0)\n",
    "    \n",
    "    #downgraded_ids = list(df.loc[df['page'] == 'Downgrade']['userId'].unique())\n",
    "    #df['downgraded'] = df['userId'].map(lambda user: 1 if user in downgraded_ids else 0)\n",
    "    \n",
    "    # Create downgraded and churned flag\n",
    "    #users_both = list(df.loc[(df['churn'] == 1) & (df['downgraded'] == 1)].drop_duplicates(subset = 'userId')['userId'].unique())\n",
    "    #df['c_and_d'] = df['userId'].map(lambda user: 1 if user in users_both else 0)\n",
    "\n",
    "    # Create downgraded only flag\n",
    "    #users_downgrade_only = list(df.loc[(df['churn'] == 0) & (df['downgraded'] == 1)].drop_duplicates(subset = 'userId')['userId'].unique())\n",
    "    #df['downgrade_only'] = df['userId'].map(lambda user: 1 if user in users_downgrade_only else 0)\n",
    "\n",
    "    # Create churned only flag\n",
    "    #users_churn_only = list(df.loc[(df['churn'] == 1) & (df['downgraded'] == 0)].drop_duplicates(subset = 'userId')['userId'].unique())\n",
    "    #df['churn_only'] = df['userId'].map(lambda user: 1 if user in users_churn_only else 0)\n",
    "    \n",
    "    return df"
   ]
  },
  {
   "cell_type": "markdown",
   "metadata": {},
   "source": [
    "# Feature Engineering\n",
    "Once you've familiarized yourself with the data, build out the features you find promising to train your model on. To work with the full dataset, you can follow the following steps.\n",
    "- Write a script to extract the necessary features from the smaller subset of data\n",
    "- Ensure that your script is scalable, using the best practices discussed in Lesson 3\n",
    "- Try your script on the full data set, debugging your script if necessary\n",
    "\n",
    "If you are working in the classroom workspace, you can just extract features based on the small subset of data contained here. Be sure to transfer over this work to the larger dataset when you work on your Spark cluster."
   ]
  },
  {
   "cell_type": "code",
   "execution_count": 14,
   "metadata": {},
   "outputs": [],
   "source": [
    "def engineer_features(df):\n",
    "    # Calculate total unique songs and artists listened to per user\n",
    "    df_agg_unique_listens = df.groupby('userId')['artist','song'].nunique() \\\n",
    "                            .rename(columns = {'artist': 'n_artist_total', 'song': 'n_song_total'})\n",
    "    \n",
    "    # Find total songs listened to overall per user\n",
    "    df_agg_total_listens = pd.DataFrame(df.groupby('userId')['song'].count() \\\n",
    "                                        .rename(columns = {'song': 'total_listens'})) \\\n",
    "                                        .reset_index() \\\n",
    "                                        .rename(columns = {'index': 'userId', 0: 'total_songs'})\n",
    "    # Get other aggregate statistics at the user level\n",
    "    df_agg = df.groupby('userId')['gender','length','location','ts2','churn'] \\\n",
    "                .max().rename(columns = {'ts2': 'max_date'})\n",
    "    \n",
    "    # Merge into 1 dataset\n",
    "    df_agg_2 = df_agg.merge(df_agg_unique_listens, on = 'userId')\n",
    "    df_agg_2 = df_agg_2.merge(df_agg_total_listens, on = 'userId')\n",
    "    \n",
    "    # Create weekly averages\n",
    "    df_unique_listens_wk = df.groupby(['userId','week'])['artist','song'].nunique()\n",
    "    df_unique_listens_wk = df_unique_listens_wk.groupby(['userId'])['artist','song'] \\\n",
    "                            .mean().rename(columns = {'artist': 'n_artist_wk_avg', 'song': 'n_song_wk_avg'})\n",
    "    \n",
    "    df_total_listens_wk = pd.DataFrame(df.groupby(['userId','week'])['song'].count()).reset_index()\n",
    "    df_total_listens_wk = df_total_listens_wk.groupby(['userId'])['song'] \\\n",
    "                                                .mean().reset_index().rename(columns = {'song': 'total_songs_wk_avg'})\n",
    "    \n",
    "    # Add to overall dataframe\n",
    "    df_agg_2 = df_agg_2.merge(df_unique_listens_wk, on = 'userId')\n",
    "    df_agg_2 = df_agg_2.merge(df_total_listens_wk, on = 'userId')\n",
    "    \n",
    "    # Calculate % of interactions per user per page type\n",
    "    user_page_totals = df[df['page'] != 'NextSong'].groupby(['userId','page'])['page'].count()\n",
    "    user_total_interactions = df[df['page'] != 'NextSong'].groupby(['userId'])['page'].count()\n",
    "    \n",
    "    # Calculate percentage engaged with per user per page overall\n",
    "    user_pct_page_ix = (user_page_totals / user_total_interactions * 100).rename('pct')\n",
    "\n",
    "    user_pct_page_ix = pd.DataFrame(user_pct_page_ix)\n",
    "\n",
    "    # Pivot so each row represents 1 user and their percentages\n",
    "    user_pct_page_ix = pd.pivot_table(user_pct_page_ix, values = ['pct'], index = ['userId'], columns = ['page']) \\\n",
    "                        .reset_index().fillna(0)\n",
    "\n",
    "    # Clean column names and return object\n",
    "    user_pct_page_ix.columns = [\"_\".join((j,k)) for j,k in user_pct_page_ix.columns]\n",
    "    user_pct_page_ix.columns = [j.lower() for j in user_pct_page_ix.columns]\n",
    "    user_pct_page_ix.columns = [j.replace(' ','_') for j in user_pct_page_ix.columns]\n",
    "    user_pct_page_ix = user_pct_page_ix.rename(columns = {'userid_': 'userId'})\n",
    "    \n",
    "    # Join as columns on userId to original df\n",
    "    df_merged = df_agg_2.merge(user_pct_page_ix, on = 'userId')\n",
    "\n",
    "    # Truncate location to state level only\n",
    "    df_merged['location'] = df_merged['location'].str[-2:]\n",
    "    \n",
    "    return df_merged"
   ]
  },
  {
   "cell_type": "markdown",
   "metadata": {},
   "source": [
    "### Create Pipeline"
   ]
  },
  {
   "cell_type": "code",
   "execution_count": 18,
   "metadata": {},
   "outputs": [],
   "source": [
    "def prep_for_modeling(df):\n",
    "    \n",
    "    # Drop columns not needed for modeling\n",
    "    df = df.drop(['max_date', 'userId', 'location', 'pct_cancel', 'pct_cancellation_confirmation', 'pct_submit_downgrade'], axis = 1)\n",
    "    \n",
    "    # Separate X and Y\n",
    "    y = pd.DataFrame(df['churn'])\n",
    "    modeling_cols = [x for x in df.columns if x not in y.columns]\n",
    "    X = df[modeling_cols]\n",
    "    \n",
    "    # Encode categoricals\n",
    "    X = pd.get_dummies(X, drop_first = True, dummy_na=False)\n",
    "\n",
    "    # Normalize\n",
    "    X_2 = Normalizer().fit_transform(X)\n",
    "    X_2 = pd.DataFrame(X_2, columns = X.columns)\n",
    "\n",
    "    # Create train and test sets\n",
    "    X_train, X_test, y_train, y_test = train_test_split(X_2, y, test_size = 0.3, random_state = 42)\n",
    "    \n",
    "    return df, X_train, X_test, y_train, y_test"
   ]
  },
  {
   "cell_type": "markdown",
   "metadata": {},
   "source": [
    "# Modeling\n",
    "Split the full dataset into train, test, and validation sets. Test out several of the machine learning methods you learned. Evaluate the accuracy of the various models, tuning parameters as necessary. Determine your winning model based on test accuracy and report results on the validation set. Since the churned users are a fairly small subset, I suggest using F1 score as the metric to optimize."
   ]
  },
  {
   "cell_type": "code",
   "execution_count": 20,
   "metadata": {},
   "outputs": [],
   "source": [
    "# Build evaluation function\n",
    "def __evaluate_model(y_test, y_preds):\n",
    "    accuracy = accuracy_score(y_test, y_preds)\n",
    "    precision = precision_score(y_test, y_preds, average = 'micro')\n",
    "    recall = recall_score(y_test, y_preds, average = 'micro')\n",
    "    f1 = f1_score(y_test, y_preds, average = 'micro')\n",
    "    \n",
    "    return accuracy, precision, recall, f1"
   ]
  },
  {
   "cell_type": "code",
   "execution_count": 24,
   "metadata": {},
   "outputs": [],
   "source": [
    "def __get_feature_importance(model):\n",
    "\n",
    "    importances = model.feature_importances_\n",
    "    names = [i for i in X_train.columns]\n",
    "\n",
    "    imp_df = pd.DataFrame(importances, names).reset_index() \\\n",
    "                    .rename(columns = {'index': 'Variable', 0: 'Importance'}) \\\n",
    "                    .sort_values(by = 'Importance', ascending = False)\n",
    "\n",
    "    return imp_df"
   ]
  },
  {
   "cell_type": "markdown",
   "metadata": {},
   "source": [
    "### Logistic Regression"
   ]
  },
  {
   "cell_type": "code",
   "execution_count": 32,
   "metadata": {},
   "outputs": [],
   "source": [
    "def get_logistic_model(model, X_train, y_train, X_test):\n",
    "\n",
    "    # Create modeling object\n",
    "    model = LogisticRegression(random_state = 42)\n",
    "    params = model.get_params\n",
    "\n",
    "    # Fit model\n",
    "    model.fit(X_train, y_train)\n",
    "\n",
    "    # Predict using model\n",
    "    y_preds = model.predict(X_test)\n",
    "\n",
    "    # Evaluate\n",
    "    accuracy, precision, recall, f1 = __evaluate_model(y_test, y_preds)\n",
    "    \n",
    "    return params, accuracy, precision, recall, f1"
   ]
  },
  {
   "cell_type": "markdown",
   "metadata": {},
   "source": [
    "### Random Forest Classifier"
   ]
  },
  {
   "cell_type": "code",
   "execution_count": 36,
   "metadata": {},
   "outputs": [],
   "source": [
    "def get_rf_model(model, X_train, y_train, X_test):\n",
    "    \n",
    "    # Create modeling object\n",
    "    model = RandomForestClassifier(random_state = 42, max_depth = 10, max_leaf_nodes = 7)\n",
    "    params = model.get_params\n",
    "\n",
    "    # Fit model\n",
    "    model.fit(X_train, y_train)\n",
    "\n",
    "    # Predict using model\n",
    "    y_preds = model.predict(X_test)\n",
    "\n",
    "    # Evaluate\n",
    "    accuracy, precision, recall, f1 = __evaluate_model(y_test, y_preds)\n",
    "    \n",
    "    \n",
    "    # Feature Importance plot\n",
    "    imp_df = __get_feature_importance(model)\n",
    "    \n",
    "    return params, accuracy, precision, recall, f1, imp_df"
   ]
  },
  {
   "cell_type": "markdown",
   "metadata": {},
   "source": [
    "### Gradient Boosted Classifier"
   ]
  },
  {
   "cell_type": "code",
   "execution_count": 38,
   "metadata": {},
   "outputs": [],
   "source": [
    "def get_gb_model(model, X_train, y_train, X_test):\n",
    "\n",
    "    # Make scorer\n",
    "    #f1_scorer = make_scores(__get_scores\n",
    "\n",
    "    # Create modeling object\n",
    "    model = GradientBoostingClassifier(random_state = 42, max_features = 7, max_leaf_nodes = 5) #GridSearchCV(pipeline, param_grid = parameters, scoring = f1_scorer)\n",
    "    params = model.get_params\n",
    "\n",
    "    # Fit model\n",
    "    model.fit(X_train, y_train)\n",
    "\n",
    "    # Predict using model\n",
    "    y_preds = model.predict(X_test)\n",
    "\n",
    "    # Evaluate\n",
    "    accuracy, precision, recall, f1 = __evaluate_model(y_test, y_preds)\n",
    "\n",
    "    # Feature Importance plot\n",
    "    imp_df = __get_feature_importance(model)\n",
    "\n",
    "    return params, accuracy, precision, recall, f1, imp_df"
   ]
  },
  {
   "cell_type": "markdown",
   "metadata": {},
   "source": [
    "### Run Pipeline"
   ]
  },
  {
   "cell_type": "code",
   "execution_count": 40,
   "metadata": {},
   "outputs": [
    {
     "name": "stdout",
     "output_type": "stream",
     "text": [
      "Parameters: <bound method BaseEstimator.get_params of LogisticRegression(C=1.0, class_weight=None, dual=False, fit_intercept=True,\n",
      "          intercept_scaling=1, max_iter=100, multi_class='ovr', n_jobs=1,\n",
      "          penalty='l2', random_state=42, solver='liblinear', tol=0.0001,\n",
      "          verbose=0, warm_start=False)>\n",
      "Accuracy: 0.794117647059\n",
      "Precision: 0.794117647059\n",
      "Recall: 0.794117647059\n",
      "F1: 0.794117647059\n"
     ]
    },
    {
     "name": "stderr",
     "output_type": "stream",
     "text": [
      "/opt/conda/lib/python3.6/site-packages/sklearn/utils/validation.py:578: DataConversionWarning: A column-vector y was passed when a 1d array was expected. Please change the shape of y to (n_samples, ), for example using ravel().\n",
      "  y = column_or_1d(y, warn=True)\n"
     ]
    }
   ],
   "source": [
    "path = 'mini_sparkify_event_data.json'\n",
    "\n",
    "df = load_and_preprocess_data(path)\n",
    "df = flag_churn(df)\n",
    "df = engineer_features(df)\n",
    "df, X_train, X_test, y_train, y_test = prep_for_modeling(df)\n",
    "params, accuracy, precision, recall, f1 = get_logistic_model(model, X_train, y_train, X_test)\n",
    "\n",
    "print('Logistic Regrssion Parameters:', params)\n",
    "print('Accuracy:', accuracy)\n",
    "print('Precision:', precision)\n",
    "print('Recall:', recall)\n",
    "print('F1:', f1)"
   ]
  },
  {
   "cell_type": "code",
   "execution_count": 41,
   "metadata": {},
   "outputs": [
    {
     "name": "stderr",
     "output_type": "stream",
     "text": [
      "/opt/conda/lib/python3.6/site-packages/ipykernel_launcher.py:8: DataConversionWarning: A column-vector y was passed when a 1d array was expected. Please change the shape of y to (n_samples,), for example using ravel().\n",
      "  \n"
     ]
    },
    {
     "name": "stdout",
     "output_type": "stream",
     "text": [
      "Parameters: <bound method BaseEstimator.get_params of RandomForestClassifier(bootstrap=True, class_weight=None, criterion='gini',\n",
      "            max_depth=10, max_features='auto', max_leaf_nodes=7,\n",
      "            min_impurity_decrease=0.0, min_impurity_split=None,\n",
      "            min_samples_leaf=1, min_samples_split=2,\n",
      "            min_weight_fraction_leaf=0.0, n_estimators=10, n_jobs=1,\n",
      "            oob_score=False, random_state=42, verbose=0, warm_start=False)>\n",
      "Accuracy: 0.852941176471\n",
      "Precision: 0.852941176471\n",
      "Recall: 0.852941176471\n",
      "F1: 0.852941176471\n"
     ]
    },
    {
     "data": {
      "image/png": "[encoded data removed]",
      "text/plain": [
       "<matplotlib.figure.Figure at 0x7f07c5facfd0>"
      ]
     },
     "metadata": {
      "needs_background": "light"
     },
     "output_type": "display_data"
    }
   ],
   "source": [
    "params, accuracy, precision, recall, f1, imp_df = get_rf_model(model, X_train, y_train, X_test)\n",
    "\n",
    "print('Random Forest Parameters:', params)\n",
    "print('Accuracy:', accuracy)\n",
    "print('Precision:', precision)\n",
    "print('Recall:', recall)\n",
    "print('F1:', f1)\n",
    "\n",
    "\n",
    "# Create plot\n",
    "plt.figure()\n",
    "plt.title(\"Feature Importance\")\n",
    "plt.bar(imp_df['Variable'], imp_df['Importance'])\n",
    "plt.xticks(rotation=90)\n",
    "plt.show()"
   ]
  },
  {
   "cell_type": "code",
   "execution_count": 42,
   "metadata": {},
   "outputs": [
    {
     "name": "stderr",
     "output_type": "stream",
     "text": [
      "/opt/conda/lib/python3.6/site-packages/sklearn/utils/validation.py:578: DataConversionWarning: A column-vector y was passed when a 1d array was expected. Please change the shape of y to (n_samples, ), for example using ravel().\n",
      "  y = column_or_1d(y, warn=True)\n"
     ]
    },
    {
     "name": "stdout",
     "output_type": "stream",
     "text": [
      "Parameters: <bound method BaseEstimator.get_params of GradientBoostingClassifier(criterion='friedman_mse', init=None,\n",
      "              learning_rate=0.1, loss='deviance', max_depth=3,\n",
      "              max_features=7, max_leaf_nodes=5, min_impurity_decrease=0.0,\n",
      "              min_impurity_split=None, min_samples_leaf=1,\n",
      "              min_samples_split=2, min_weight_fraction_leaf=0.0,\n",
      "              n_estimators=100, presort='auto', random_state=42,\n",
      "              subsample=1.0, verbose=0, warm_start=False)>\n",
      "Accuracy: 0.838235294118\n",
      "Precision: 0.838235294118\n",
      "Recall: 0.838235294118\n",
      "F1: 0.838235294118\n"
     ]
    },
    {
     "data": {
      "image/png": "[encoded data removed]",
      "text/plain": [
       "<matplotlib.figure.Figure at 0x7f07d1a16978>"
      ]
     },
     "metadata": {
      "needs_background": "light"
     },
     "output_type": "display_data"
    }
   ],
   "source": [
    "params, accuracy, precision, recall, f1, imp_df = get_gb_model(model, X_train, y_train, X_test)\n",
    "\n",
    "print('GB Classifier Parameters:', params)\n",
    "print('Accuracy:', accuracy)\n",
    "print('Precision:', precision)\n",
    "print('Recall:', recall)\n",
    "print('F1:', f1)\n",
    "\n",
    "\n",
    "# Create plot\n",
    "plt.figure()\n",
    "plt.title(\"Feature Importance\")\n",
    "plt.bar(imp_df['Variable'], imp_df['Importance'])\n",
    "plt.xticks(rotation=90)\n",
    "plt.show()"
   ]
  }
 ],
 "metadata": {
  "kernelspec": {
   "display_name": "Python 3",
   "language": "python",
   "name": "python3"
  },
  "language_info": {
   "codemirror_mode": {
    "name": "ipython",
    "version": 3
   },
   "file_extension": ".py",
   "mimetype": "text/x-python",
   "name": "python",
   "nbconvert_exporter": "python",
   "pygments_lexer": "ipython3",
   "version": "3.6.3"
  }
 },
 "nbformat": 4,
 "nbformat_minor": 2
}
